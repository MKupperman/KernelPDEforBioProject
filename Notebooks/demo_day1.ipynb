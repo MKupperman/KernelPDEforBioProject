{
 "cells": [
  {
   "cell_type": "code",
   "execution_count": 3,
   "metadata": {
    "metadata": {}
   },
   "outputs": [],
   "source": [
    "from functools import partial\n",
    "import sys\n",
    "sys.path.append('../src')\n",
    "import numpy as np\n",
    "import matplotlib.pyplot as plt\n",
    "import matplotlib\n",
    "import KBio"
   ]
  },
  {
   "cell_type": "code",
   "execution_count": 4,
   "metadata": {
    "metadata": {}
   },
   "outputs": [],
   "source": [
    "# p = KBio.Polynomial(degree = 3, c=0.1)\n",
    "p = KBio.Gaussian(sigma=1e-2)"
   ]
  },
  {
   "cell_type": "code",
   "execution_count": 5,
   "metadata": {
    "metadata": {}
   },
   "outputs": [],
   "source": [
    "np.random.seed(7)"
   ]
  },
  {
   "cell_type": "markdown",
   "metadata": {},
   "source": [
    "We'll run our simulation with a time step (Euler method) of 0.01, 5% initial infection (this is quite high, but avoids stability issues **and** makes for way more awesome plots)."
   ]
  },
  {
   "cell_type": "code",
   "execution_count": 6,
   "metadata": {
    "metadata": {}
   },
   "outputs": [
    {
     "ename": "TypeError",
     "evalue": "SIS_sim.__init__() got an unexpected keyword argument 'euler'",
     "output_type": "error",
     "traceback": [
      "\u001b[0;31m---------------------------------------------------------------------------\u001b[0m",
      "\u001b[0;31mTypeError\u001b[0m                                 Traceback (most recent call last)",
      "Cell \u001b[0;32mIn[6], line 6\u001b[0m\n\u001b[1;32m      4\u001b[0m dt \u001b[38;5;241m=\u001b[39m \u001b[38;5;241m1e-2\u001b[39m  \u001b[38;5;66;03m# for Euler step\u001b[39;00m\n\u001b[1;32m      5\u001b[0m data \u001b[38;5;241m=\u001b[39m KBio\u001b[38;5;241m.\u001b[39mrectangular_grid([\u001b[38;5;241m0\u001b[39m], [\u001b[38;5;241m3e1\u001b[39m], [\u001b[38;5;241m30\u001b[39m \u001b[38;5;241m+\u001b[39m \u001b[38;5;241m1\u001b[39m])\n\u001b[0;32m----> 6\u001b[0m sim \u001b[38;5;241m=\u001b[39m KBio\u001b[38;5;241m.\u001b[39mSIS_sim(dt\u001b[38;5;241m=\u001b[39mdt, T_final\u001b[38;5;241m=\u001b[39mT_final, beta\u001b[38;5;241m=\u001b[39mbeta, gamma\u001b[38;5;241m=\u001b[39mgamma, I0 \u001b[38;5;241m=\u001b[39m \u001b[38;5;241m5\u001b[39m, S0 \u001b[38;5;241m=\u001b[39m \u001b[38;5;241m95\u001b[39m, euler\u001b[38;5;241m=\u001b[39m\u001b[38;5;28;01mFalse\u001b[39;00m)\n\u001b[1;32m      7\u001b[0m sim(data, forcing \u001b[38;5;241m=\u001b[39m \u001b[38;5;28;01mlambda\u001b[39;00m x: \u001b[38;5;241m1.8e-1\u001b[39m\u001b[38;5;241m*\u001b[39mnp\u001b[38;5;241m.\u001b[39msin(\u001b[38;5;241m0.01\u001b[39m \u001b[38;5;241m+\u001b[39m \u001b[38;5;241m0.9\u001b[39m\u001b[38;5;241m*\u001b[39mx))\n",
      "\u001b[0;31mTypeError\u001b[0m: SIS_sim.__init__() got an unexpected keyword argument 'euler'"
     ]
    }
   ],
   "source": [
    "beta = 4e-1\n",
    "gamma = 1e-1\n",
    "T_final = 3e1\n",
    "dt = 1e-2  # for Euler step\n",
    "data = KBio.rectangular_grid([0], [3e1], [30 + 1])\n",
    "sim = KBio.SIS_sim(dt=dt, T_final=T_final, beta=beta, gamma=gamma, I0 = 5, S0 = 95, euler=False)\n",
    "sim(data, forcing = lambda x: 1.8e-1*np.sin(0.01 + 0.9*x))"
   ]
  },
  {
   "cell_type": "code",
   "execution_count": null,
   "metadata": {
    "metadata": {}
   },
   "outputs": [],
   "source": [
    "plt.figure(figsize=(20,5))\n",
    "plt.plot(data.grid_tensors[0], data.grid_tensors_values, 'o')\n",
    "# Put a vertical line at asymptotic steady state under no perturbation\n",
    "steady_state = sim.asymptotic_steady_state() # 1 - 1/R0\n",
    "# horizontal line from 0 to T_max at the asymptotic steady state\n",
    "plt.plot([0, np.max(data.grid_tensors[0])], [steady_state, steady_state], 'r')"
   ]
  },
  {
   "cell_type": "markdown",
   "metadata": {},
   "source": [
    "Now let's generate a small data set of 200 points, with 100 trajectories, and plot it. We'll sample the forcing functions as sinusoids with random frequencies and amplitudes, and constants. \n",
    "\n",
    "<!-- 80 trajectories will be with sinusoidal forcing, and 20 will be constant. -->"
   ]
  },
  {
   "cell_type": "code",
   "execution_count": null,
   "metadata": {
    "metadata": {}
   },
   "outputs": [],
   "source": [
    "def oscillatory_forcing(A, omega, phi, t):\n",
    "    return A*np.sin(omega + phi*t) * np.minimum(1, t/10)\n",
    "\n",
    "def constant_forcing(A, t):\n",
    "    return A * np.minimum(1, t/10)"
   ]
  },
  {
   "cell_type": "code",
   "execution_count": null,
   "metadata": {
    "metadata": {}
   },
   "outputs": [],
   "source": [
    "n_samples_oscillatory = 10\n",
    "# use log-uniform distribution to generate amplitudes\n",
    "amplitudes = 10 ** (np.random.uniform(-3, -2.5, n_samples_oscillatory))\n",
    "\n",
    "# use uniform distribution to generate frequencies\n",
    "shifts = np.random.uniform(0, np.pi, n_samples_oscillatory)\n",
    "print(shifts)\n",
    "frequencies = np.random.uniform(1, 6, n_samples_oscillatory)\n",
    "forcing_functions = [partial(oscillatory_forcing, amplitude, shift, frequency) for amplitude, shift, frequency in zip(amplitudes, shifts, frequencies)]\n",
    "grids_oscillatory = [KBio.rectangular_grid([0], [30], [301]) for _ in range(n_samples_oscillatory)]\n",
    "for grid, amplitude, shift, frequency, fn in zip(grids_oscillatory, amplitudes, shifts, frequencies, forcing_functions):\n",
    "    sim(grid, forcing = fn)"
   ]
  },
  {
   "cell_type": "markdown",
   "metadata": {},
   "source": [
    "Our oscillatory forcing function is of the form\n",
    "$$\n",
    "f(t) = \\min(1, t / 10) A \\sin(\\omega t + \\phi)\n",
    "$$\n",
    "\n",
    "So by day 10, the forcing function will be at its full amplitude. This avoids issues where the forcing function overpowers the dynamics of the system and makes the trajectories non-physical. "
   ]
  },
  {
   "cell_type": "code",
   "execution_count": null,
   "metadata": {
    "metadata": {}
   },
   "outputs": [],
   "source": [
    "plt.figure(figsize=(20,5))\n",
    "for grid in grids_oscillatory:\n",
    "    plt.plot(grid.grid_tensors[0], grid.grid_tensors_values)"
   ]
  },
  {
   "cell_type": "code",
   "execution_count": null,
   "metadata": {
    "metadata": {}
   },
   "outputs": [],
   "source": [
    "n_samples_constant = 2\n",
    "grids_constant = [KBio.rectangular_grid([0], [30], [301]) for _ in range(n_samples_constant)]\n",
    "\n",
    "constant_values = np.random.normal(0, 1e-4, n_samples_constant)\n",
    "functions_constant = [partial(constant_forcing, constant_value) for constant_value in constant_values]\n",
    "for grid, constant_value, fn in zip(grids_constant, constant_values, functions_constant):\n",
    "    sim(grid, forcing = fn)"
   ]
  },
  {
   "cell_type": "code",
   "execution_count": null,
   "metadata": {
    "metadata": {}
   },
   "outputs": [],
   "source": [
    "constant_values"
   ]
  },
  {
   "cell_type": "code",
   "execution_count": null,
   "metadata": {
    "metadata": {}
   },
   "outputs": [],
   "source": [
    "plt.figure(figsize=(20,5))\n",
    "for grid in grids_constant:\n",
    "    plt.plot(grid.grid_tensors[0], grid.grid_tensors_values)"
   ]
  },
  {
   "cell_type": "code",
   "execution_count": null,
   "metadata": {
    "metadata": {}
   },
   "outputs": [],
   "source": [
    "grids_all = grids_oscillatory # + grids_constant\n"
   ]
  },
  {
   "cell_type": "code",
   "execution_count": null,
   "metadata": {
    "metadata": {}
   },
   "outputs": [],
   "source": [
    "# Reformat the data into a format that can be used by the Kernel\n",
    "smoothed_data = []\n",
    "smoothed_derivatives = []\n",
    "alphas_list = [[0], [1], [2]]\n",
    "x_data = np.stack([grid.grid_tensors[0] for grid in grids_all])\n",
    "# x_data += np.random.normal(0, 1e-2, x_data.shape)\n",
    "# standardize x_data to mean 0 variance 1\n",
    "x_mean = np.mean(x_data)\n",
    "x_std = np.std(x_data)\n",
    "x_data = (x_data - x_mean) / x_std\n",
    "y_data = np.stack([grid.grid_tensors_values for grid in grids_all])\n",
    "# y_data += np.random.normal(0, 1e-3, y_data.shape)\n",
    "f_data = np.stack([grid.grid_tensors_forcing for grid in grids_all])\n",
    "\n",
    "z, kdList, u_smoothed = KBio.kernel_smoothing(p, x_grid = x_data, u_data = y_data, f_data = f_data, alpha_list=alphas_list, nugget=1e-8)\n",
    "# u_smoothed"
   ]
  },
  {
   "cell_type": "code",
   "execution_count": null,
   "metadata": {},
   "outputs": [],
   "source": [
    "plt.plot(z)"
   ]
  },
  {
   "cell_type": "code",
   "execution_count": null,
   "metadata": {},
   "outputs": [],
   "source": [
    "plt.figure(figsize=(15,15))\n",
    "plt.matshow(kdList[1][0:25, 0:25])\n",
    "plt.colorbar()\n",
    "# plt.tight_layout()\n",
    "plt.show()"
   ]
  },
  {
   "cell_type": "code",
   "execution_count": null,
   "metadata": {},
   "outputs": [],
   "source": [
    "print(p)"
   ]
  },
  {
   "cell_type": "code",
   "execution_count": null,
   "metadata": {},
   "outputs": [],
   "source": [
    "plt.plot(u_smoothed[1][:,3])"
   ]
  },
  {
   "cell_type": "markdown",
   "metadata": {},
   "source": [
    "## Exploratory side-quest on the derivative matrices we just calculated.\n",
    "\n",
    "Below are some plots used to verify that this method is working as intended."
   ]
  },
  {
   "cell_type": "code",
   "execution_count": null,
   "metadata": {
    "metadata": {}
   },
   "outputs": [],
   "source": [
    "plt.figure(figsize=(20,5))\n",
    "for grid in grids_oscillatory:\n",
    "    plt.plot((grid.grid_tensors[0] - x_mean) / x_std, grid.grid_tensors_values, label='original')\n",
    "\n",
    "plt.plot(x_data[0,:], u_smoothed[0], label='smoothed')\n",
    "plt.show()\n",
    "# plt.legend()"
   ]
  },
  {
   "cell_type": "code",
   "execution_count": null,
   "metadata": {
    "metadata": {}
   },
   "outputs": [],
   "source": [
    "u_smoothed[0].shape"
   ]
  },
  {
   "cell_type": "code",
   "execution_count": null,
   "metadata": {
    "metadata": {}
   },
   "outputs": [],
   "source": [
    "gap = grids_oscillatory[0].grid_tensors_values - u_smoothed[0][:,0]\n",
    "plt.plot(gap)"
   ]
  },
  {
   "cell_type": "code",
   "execution_count": null,
   "metadata": {},
   "outputs": [],
   "source": [
    "# plt.plot(u_smoothed[0][:,0])\n",
    "plt.plot(u_smoothed[1][:,0])"
   ]
  },
  {
   "cell_type": "code",
   "execution_count": null,
   "metadata": {
    "metadata": {}
   },
   "outputs": [],
   "source": [
    "plt.plot(u_smoothed[0])\n",
    "plt.show()"
   ]
  },
  {
   "cell_type": "code",
   "execution_count": null,
   "metadata": {
    "metadata": {}
   },
   "outputs": [],
   "source": [
    "plt.plot(z)"
   ]
  },
  {
   "cell_type": "code",
   "execution_count": null,
   "metadata": {
    "metadata": {}
   },
   "outputs": [],
   "source": [
    "kdList[1].shape"
   ]
  },
  {
   "cell_type": "code",
   "execution_count": null,
   "metadata": {
    "metadata": {}
   },
   "outputs": [],
   "source": [
    "fig = plt.figure(figsize=(8,8))\n",
    "ax = fig.add_subplot()\n",
    "mappable = ax.matshow(kdList[2][0:50, 0:50])\n",
    "ax.set_aspect('auto')\n",
    "plt.colorbar(mappable)\n",
    "plt.show()"
   ]
  },
  {
   "cell_type": "code",
   "execution_count": null,
   "metadata": {
    "metadata": {}
   },
   "outputs": [],
   "source": [
    "plt.imshow(kdList[1])"
   ]
  },
  {
   "cell_type": "markdown",
   "metadata": {},
   "source": [
    "# Assemble derivative \"features\" at each grid point"
   ]
  },
  {
   "cell_type": "code",
   "execution_count": null,
   "metadata": {},
   "outputs": [],
   "source": [
    "feature_functions = []\n",
    "\n",
    "def ident(index, x, u, u_deriv_list):\n",
    "    \"\"\" Identity feature function for the $index$-th derivative of the function\"\"\"\n",
    "    if np.abs(int(index) - index) > 1e-10:\n",
    "        raise ValueError('Only the first derivative is available')\n",
    "    if index == 0:\n",
    "        return u\n",
    "    else:\n",
    "        return u_deriv_list[index]\n",
    "# Get the first 2 derivatives and the function itself\n",
    "for i in range(1,3):\n",
    "    feature_functions.append(partial(ident, i))\n",
    "\n",
    "# quadratic feature function\n",
    "def quadratic(index, x, u, u_deriv_list):\n",
    "    \"\"\" Quadratic feature function for the $index$-th derivative of the function\n",
    "\n",
    "    The feature function is $u^2$ for the function itself and $2u u'$ for the first derivative.\n",
    "    \"\"\"\n",
    "\n",
    "    if index == 0:\n",
    "        return u**2\n",
    "    elif index == 1:\n",
    "        return 2*u*u_deriv_list[index]\n",
    "    else:\n",
    "        raise ValueError('Higher derivatives are not implemented')\n",
    "\n",
    "feature_functions.append(partial(quadratic, 0))\n",
    "# feature_functions.append(partial(quadratic, 1))"
   ]
  },
  {
   "cell_type": "code",
   "execution_count": null,
   "metadata": {},
   "outputs": [],
   "source": [
    "x_grid_list = grid.grid_list  # Get the grid of points as a list\n",
    "F0 = KBio.assemble_features(x_grid_list=x_grid_list, u_smoothed=u_smoothed[0], multi_derivatives=u_smoothed, function_list=feature_functions)\n",
    "# Reshape the feature tensor into a feature matrix, combining the first two dimensions\n",
    "# Only FLATTEN the first two dimensions together.abs\n",
    "\n",
    "\n",
    "# Below is the same as the above, just slower since we need to do a copy.\n",
    "# # Now do it by for loops\n",
    "# F1 = np.zeros((F.shape[0] * F.shape[1], F.shape[2]))\n",
    "# for i in range(F.shape[0]):\n",
    "#     for j in range(F.shape[1]):\n",
    "#         F1[i*F.shape[1] + j] = F[i,j]\n",
    "\n",
    "# labels/regression targets\n",
    "f_data_flat = f_data.reshape(-1, 1)"
   ]
  },
  {
   "cell_type": "code",
   "execution_count": null,
   "metadata": {},
   "outputs": [],
   "source": [
    "feature_functions"
   ]
  },
  {
   "cell_type": "code",
   "execution_count": null,
   "metadata": {},
   "outputs": [],
   "source": [
    "len(x_grid_list)"
   ]
  },
  {
   "cell_type": "code",
   "execution_count": null,
   "metadata": {},
   "outputs": [],
   "source": [
    "len(u_smoothed)"
   ]
  },
  {
   "cell_type": "code",
   "execution_count": null,
   "metadata": {},
   "outputs": [],
   "source": [
    "u_smoothed[0].shape"
   ]
  },
  {
   "cell_type": "code",
   "execution_count": null,
   "metadata": {},
   "outputs": [],
   "source": []
  },
  {
   "cell_type": "code",
   "execution_count": null,
   "metadata": {},
   "outputs": [],
   "source": [
    "# normalize F0 feature-wise, so that each feature has mean 0 and variance 1\n",
    "F0_mean = np.mean(F0, axis=0)\n",
    "F0_std = np.std(F0, axis=0)\n",
    "F0 = np.divide((F0 - F0_mean), F0_std, where = (F0_std != 0))"
   ]
  },
  {
   "cell_type": "code",
   "execution_count": null,
   "metadata": {},
   "outputs": [],
   "source": [
    "F0_mean"
   ]
  },
  {
   "cell_type": "code",
   "execution_count": null,
   "metadata": {},
   "outputs": [],
   "source": [
    "F0_std"
   ]
  },
  {
   "cell_type": "code",
   "execution_count": null,
   "metadata": {},
   "outputs": [],
   "source": [
    "F0.std(axis=0)"
   ]
  },
  {
   "cell_type": "markdown",
   "metadata": {},
   "source": [
    "We should use the F0 technique and just reshape, but in case we want to sanity check that it gives the natural ordering, we can do it manually."
   ]
  },
  {
   "cell_type": "code",
   "execution_count": null,
   "metadata": {},
   "outputs": [],
   "source": [
    "q = KBio.Polynomial(degree=1, c=0)\n",
    "# q = KBio.Gaussian(sigma=2e-1)"
   ]
  },
  {
   "cell_type": "code",
   "execution_count": null,
   "metadata": {},
   "outputs": [],
   "source": [
    "predictor, weight_vector = KBio.learn_DE_form(kernel=q, s_features=F0, f_labels=f_data_flat, nugget=1e-1)"
   ]
  },
  {
   "cell_type": "code",
   "execution_count": null,
   "metadata": {},
   "outputs": [],
   "source": [
    "predictor"
   ]
  },
  {
   "cell_type": "code",
   "execution_count": null,
   "metadata": {},
   "outputs": [],
   "source": [
    "fig, ax = plt.subplots(4, 1, figsize=(40,20))\n",
    "wv_matrix = weight_vector.reshape(301, weight_vector.shape[0] // 301)\n",
    "for i in range(4):\n",
    "    ax[i].plot(wv_matrix[:,i])"
   ]
  },
  {
   "cell_type": "code",
   "execution_count": null,
   "metadata": {},
   "outputs": [],
   "source": [
    "wv_matrix.shape"
   ]
  },
  {
   "cell_type": "code",
   "execution_count": null,
   "metadata": {},
   "outputs": [],
   "source": [
    "weight_vector.shape"
   ]
  },
  {
   "cell_type": "markdown",
   "metadata": {},
   "source": [
    "# Test out the technique on a set of new trajectories"
   ]
  },
  {
   "cell_type": "code",
   "execution_count": null,
   "metadata": {},
   "outputs": [],
   "source": [
    "# Repeat the above for a testing/validation set for demonstrations.\n",
    "\n",
    "np.random.seed(1947)\n",
    "n_samples_oscillatory_test = 6\n",
    "\n",
    "amplitude_test = 10 ** (np.random.uniform(-3, -2.5, n_samples_oscillatory_test))\n",
    "shift_test = np.random.uniform(0, np.pi, n_samples_oscillatory_test)\n",
    "frequencies_test = np.random.uniform(1, 6, n_samples_oscillatory_test)\n",
    "\n",
    "forcing_functions_test = [partial(oscillatory_forcing, amplitude, shift, frequency) for amplitude, shift, frequency in zip(amplitude_test, shift_test, frequencies_test)]\n",
    "grids_oscillatory_test = [KBio.rectangular_grid([0], [30], [301]) for _ in range(n_samples_oscillatory_test)]\n",
    "\n",
    "for grid, amplitude, shift, frequency, fn in zip(grids_oscillatory_test, amplitude_test, shift_test, frequencies_test, forcing_functions_test):\n",
    "    sim(grid, forcing = fn)\n"
   ]
  },
  {
   "cell_type": "code",
   "execution_count": null,
   "metadata": {},
   "outputs": [],
   "source": [
    "# Smooth this new data in the same way as before\n",
    "x_data_test = np.stack([grid.grid_tensors[0] for grid in grids_oscillatory_test])\n",
    "# x_data_test += np.random.normal(0, 1e-2, x_data_test.shape) # Add some noise to the x data\n",
    "# Make sure we use the same scaling transform here as we did before.\n",
    "x_data_test = (x_data_test - x_mean) / x_std\n",
    "y_data_test = np.stack([grid.grid_tensors_values for grid in grids_oscillatory_test])\n",
    "\n",
    "f_data_test = np.stack([grid.grid_tensors_forcing for grid in grids_oscillatory_test])"
   ]
  },
  {
   "cell_type": "code",
   "execution_count": null,
   "metadata": {},
   "outputs": [],
   "source": [
    "# Now smooth it\n",
    "z_test, kdList_test, u_smoothed_test = KBio.kernel_smoothing(p, x_grid = x_data_test, u_data = y_data_test, f_data = f_data_test, alpha_list=alphas_list, nugget=1e-14)"
   ]
  },
  {
   "cell_type": "code",
   "execution_count": null,
   "metadata": {},
   "outputs": [],
   "source": [
    "u_smoothed_test[0].shape"
   ]
  },
  {
   "cell_type": "code",
   "execution_count": null,
   "metadata": {},
   "outputs": [],
   "source": [
    "x_grid_list"
   ]
  },
  {
   "cell_type": "code",
   "execution_count": null,
   "metadata": {},
   "outputs": [],
   "source": [
    "F0_test = KBio.assemble_features(x_grid_list=x_grid_list, u_smoothed=u_smoothed_test[0], multi_derivatives=u_smoothed_test, function_list=feature_functions, flatten=False)\n",
    "# standardize the test data\n",
    "F0_test = np.divide((F0_test - F0_mean), F0_std, where = (F0_std != 0))"
   ]
  },
  {
   "cell_type": "code",
   "execution_count": null,
   "metadata": {},
   "outputs": [],
   "source": []
  },
  {
   "cell_type": "code",
   "execution_count": null,
   "metadata": {},
   "outputs": [],
   "source": [
    "F0_test.shape"
   ]
  },
  {
   "cell_type": "code",
   "execution_count": null,
   "metadata": {},
   "outputs": [],
   "source": [
    "s_test = np.zeros((F0_test.shape[1], F0_test.shape[1]))\n",
    "for i in range(F0_test.shape[1]):\n",
    "    for j in range(F0_test.shape[1]):\n",
    "        s_test[i,j] = q(F0_test[0,i,:], F0_test[0,j,:] )\n",
    "# s_test = q(F0_test[0,:,:], F0_test[0,:,:])"
   ]
  },
  {
   "cell_type": "code",
   "execution_count": null,
   "metadata": {},
   "outputs": [],
   "source": [
    "F0_test[0,1,:] - F0_test[0,2,:]"
   ]
  },
  {
   "cell_type": "code",
   "execution_count": null,
   "metadata": {},
   "outputs": [],
   "source": [
    "fig, ax = plt.subplots(1, 1, figsize=(8,8))\n",
    "mappable = ax.matshow(s_test)\n",
    "fig.colorbar(mappable)"
   ]
  },
  {
   "cell_type": "code",
   "execution_count": null,
   "metadata": {},
   "outputs": [],
   "source": [
    "F0_test[0,1,:].shape"
   ]
  },
  {
   "cell_type": "code",
   "execution_count": null,
   "metadata": {},
   "outputs": [],
   "source": [
    "F0_test.shape"
   ]
  },
  {
   "cell_type": "code",
   "execution_count": null,
   "metadata": {},
   "outputs": [],
   "source": [
    "k_new, preds = predictor(F0_test[0,:,:])"
   ]
  },
  {
   "cell_type": "code",
   "execution_count": null,
   "metadata": {},
   "outputs": [],
   "source": [
    "k_new.max()"
   ]
  },
  {
   "cell_type": "code",
   "execution_count": null,
   "metadata": {},
   "outputs": [],
   "source": [
    "fig, ax = plt.subplots(1, 1, figsize=(80, 10))\n",
    "ax.matshow(k_new)\n",
    "fig.show()"
   ]
  },
  {
   "cell_type": "code",
   "execution_count": null,
   "metadata": {},
   "outputs": [],
   "source": [
    "preds_all = []\n",
    "for i in range(F0_test.shape[0]):\n",
    "    print(i)\n",
    "    k_new, preds = predictor(F0_test[i,:,:])\n",
    "    preds_all.append(preds)"
   ]
  },
  {
   "cell_type": "code",
   "execution_count": null,
   "metadata": {},
   "outputs": [],
   "source": [
    "\n",
    "fig, ax = plt.subplots(n_samples_oscillatory_test, 1, figsize=(20,5 * n_samples_oscillatory_test))\n",
    "for i in range(n_samples_oscillatory_test):\n",
    "    ax[i].plot(preds_all[i], label='Predicted')\n",
    "    ax[i].set_title(\"Predicted forcing function\")\n",
    "    ax[i].plot(f_data_test[i], label='True')"
   ]
  },
  {
   "cell_type": "code",
   "execution_count": 1,
   "metadata": {},
   "outputs": [
    {
     "name": "stdout",
     "output_type": "stream",
     "text": [
      "Intel MKL WARNING: Support of Intel(R) Streaming SIMD Extensions 4.2 (Intel(R) SSE4.2) enabled only processors has been deprecated. Intel oneAPI Math Kernel Library 2025.0 will require Intel(R) Advanced Vector Extensions (Intel(R) AVX) instructions.\n",
      "Intel MKL WARNING: Support of Intel(R) Streaming SIMD Extensions 4.2 (Intel(R) SSE4.2) enabled only processors has been deprecated. Intel oneAPI Math Kernel Library 2025.0 will require Intel(R) Advanced Vector Extensions (Intel(R) AVX) instructions.\n",
      "********************************************************************\n",
      "Warning: Some Riemannn solvers were not able to be imported.\n",
      " Did you run \"pip install\" in your clawpack directory?\n",
      "********************************************************************\n"
     ]
    },
    {
     "name": "stderr",
     "output_type": "stream",
     "text": [
      "Traceback (most recent call last):\n",
      "  File \"/Users/hansonmo/opt/anaconda3/envs/py12/lib/python3.12/site-packages/clawpack/riemann/__init__.py\", line 56, in <module>\n",
      "    from . import acoustics_1D\n",
      "ImportError: dlopen(/Users/hansonmo/opt/anaconda3/envs/py12/lib/python3.12/site-packages/clawpack/riemann/acoustics_1D.cpython-312-darwin.so, 2): Symbol not found: _rp1_\n",
      "  Referenced from: /Users/hansonmo/opt/anaconda3/envs/py12/lib/python3.12/site-packages/clawpack/riemann/acoustics_1D.cpython-312-darwin.so\n",
      "  Expected in: flat namespace\n",
      " in /Users/hansonmo/opt/anaconda3/envs/py12/lib/python3.12/site-packages/clawpack/riemann/acoustics_1D.cpython-312-darwin.so\n"
     ]
    }
   ],
   "source": [
    "from functools import partial\n",
    "import sys\n",
    "sys.path.append('../src')\n",
    "import numpy as np\n",
    "import matplotlib.pyplot as plt\n",
    "import matplotlib\n",
    "import KBio"
   ]
  },
  {
   "cell_type": "code",
   "execution_count": 3,
   "metadata": {},
   "outputs": [
    {
     "ename": "AssertionError",
     "evalue": "Length of mins, maxes, and n_pts must be equal",
     "output_type": "error",
     "traceback": [
      "\u001b[0;31m---------------------------------------------------------------------------\u001b[0m",
      "\u001b[0;31mAssertionError\u001b[0m                            Traceback (most recent call last)",
      "Cell \u001b[0;32mIn[3], line 11\u001b[0m\n\u001b[1;32m      8\u001b[0m nx \u001b[38;5;241m=\u001b[39m \u001b[38;5;241m100\u001b[39m\n\u001b[1;32m     10\u001b[0m \u001b[38;5;66;03m# Create grid\u001b[39;00m\n\u001b[0;32m---> 11\u001b[0m data \u001b[38;5;241m=\u001b[39m rectangular_grid([\u001b[38;5;241m0\u001b[39m], [T_final], [nx \u001b[38;5;241m+\u001b[39m \u001b[38;5;241m1\u001b[39m, \u001b[38;5;241m100\u001b[39m])\n\u001b[1;32m     13\u001b[0m \u001b[38;5;66;03m# Initialize Advection1D simulation\u001b[39;00m\n\u001b[1;32m     14\u001b[0m sim \u001b[38;5;241m=\u001b[39m Advection1D_sim(dt\u001b[38;5;241m=\u001b[39mdt, u0\u001b[38;5;241m=\u001b[39mu0, c\u001b[38;5;241m=\u001b[39mc, T_final\u001b[38;5;241m=\u001b[39mT_final, nx\u001b[38;5;241m=\u001b[39mnx)\n",
      "File \u001b[0;32m~/Downloads/AMATH563_Project/KernelPDEforBioProject/Notebooks/../src/KBio/dataSimulators.py:61\u001b[0m, in \u001b[0;36mrectangular_grid.__init__\u001b[0;34m(self, mins, maxes, n_pts)\u001b[0m\n\u001b[1;32m     59\u001b[0m \u001b[38;5;28;01mdef\u001b[39;00m \u001b[38;5;21m__init__\u001b[39m(\u001b[38;5;28mself\u001b[39m, mins:np\u001b[38;5;241m.\u001b[39mndarray, maxes:\u001b[38;5;28mlist\u001b[39m[\u001b[38;5;28mfloat\u001b[39m], n_pts:\u001b[38;5;28mlist\u001b[39m[\u001b[38;5;28mint\u001b[39m]) \u001b[38;5;241m-\u001b[39m\u001b[38;5;241m>\u001b[39m \u001b[38;5;28;01mNone\u001b[39;00m:\n\u001b[1;32m     60\u001b[0m     \u001b[38;5;28msuper\u001b[39m()\u001b[38;5;241m.\u001b[39m\u001b[38;5;21m__init__\u001b[39m()\n\u001b[0;32m---> 61\u001b[0m     \u001b[38;5;28;01massert\u001b[39;00m \u001b[38;5;28mlen\u001b[39m(mins) \u001b[38;5;241m==\u001b[39m \u001b[38;5;28mlen\u001b[39m(maxes) \u001b[38;5;241m==\u001b[39m \u001b[38;5;28mlen\u001b[39m(n_pts), \u001b[38;5;124m\"\u001b[39m\u001b[38;5;124mLength of mins, maxes, and n_pts must be equal\u001b[39m\u001b[38;5;124m\"\u001b[39m\n\u001b[1;32m     62\u001b[0m     \u001b[38;5;28mself\u001b[39m\u001b[38;5;241m.\u001b[39mmins \u001b[38;5;241m=\u001b[39m mins\n\u001b[1;32m     63\u001b[0m     \u001b[38;5;28mself\u001b[39m\u001b[38;5;241m.\u001b[39mmaxes \u001b[38;5;241m=\u001b[39m maxes\n",
      "\u001b[0;31mAssertionError\u001b[0m: Length of mins, maxes, and n_pts must be equal"
     ]
    }
   ],
   "source": [
    "from KBio import Advection1D_sim, rectangular_grid\n",
    "\n",
    "# Define parameters\n",
    "dt = 1e-2\n",
    "u0 = 1.0\n",
    "c = 1.0\n",
    "T_final = 3e1\n",
    "nx = 100\n",
    "\n",
    "# Create grid\n",
    "data = rectangular_grid([0], [T_final], [nx + 1, 100])\n",
    "\n",
    "# Initialize Advection1D simulation\n",
    "sim = Advection1D_sim(dt=dt, u0=u0, c=c, T_final=T_final, nx=nx)\n",
    "\n",
    "# Run simulation\n",
    "sim(data, forcing=lambda x: 1.8e-1*np.sin(0.01 + 0.9*x))\n",
    "\n",
    "# Plot results\n",
    "plt.figure(figsize=(20, 5))\n",
    "plt.plot(data.grid_tensors[0], data.grid_tensors_values, 'o')\n",
    "plt.title(\"Advection 1D Simulation\")\n",
    "plt.xlabel(\"Time\")\n",
    "plt.ylabel(\"Value\")\n",
    "plt.show()\n"
   ]
  },
  {
   "cell_type": "code",
   "execution_count": null,
   "metadata": {},
   "outputs": [],
   "source": []
  }
 ],
 "metadata": {
  "kernelspec": {
   "display_name": "Python 3 (ipykernel)",
   "language": "python",
   "name": "python3"
  },
  "language_info": {
   "codemirror_mode": {
    "name": "ipython",
    "version": 3
   },
   "file_extension": ".py",
   "mimetype": "text/x-python",
   "name": "python",
   "nbconvert_exporter": "python",
   "pygments_lexer": "ipython3",
   "version": "3.12.3"
  }
 },
 "nbformat": 4,
 "nbformat_minor": 4
}
