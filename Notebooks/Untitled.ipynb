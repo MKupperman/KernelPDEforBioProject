{
 "cells": [
  {
   "cell_type": "code",
   "execution_count": 1,
   "id": "5320b0e2",
   "metadata": {},
   "outputs": [
    {
     "name": "stdout",
     "output_type": "stream",
     "text": [
      "********************************************************************\n",
      "Warning: Some Riemannn solvers were not able to be imported.\n",
      " Did you run \"pip install\" in your clawpack directory?\n",
      "********************************************************************\n",
      "2024-05-10 14:07:05,264 INFO CLAW: Solution 0 computed for time t=0.000000\n"
     ]
    },
    {
     "name": "stderr",
     "output_type": "stream",
     "text": [
      "Traceback (most recent call last):\n",
      "  File \"/Users/hansonmo/opt/anaconda3/lib/python3.9/site-packages/clawpack/riemann/__init__.py\", line 56, in <module>\n",
      "    from . import acoustics_1D\n",
      "ImportError: dlopen(/Users/hansonmo/opt/anaconda3/lib/python3.9/site-packages/clawpack/riemann/acoustics_1D.cpython-39-darwin.so, 2): no suitable image found.  Did find:\n",
      "\t/Users/hansonmo/opt/anaconda3/lib/python3.9/site-packages/clawpack/riemann/acoustics_1D.cpython-39-darwin.so: mach-o, but wrong architecture\n",
      "\t/Users/hansonmo/opt/anaconda3/lib/python3.9/site-packages/clawpack/riemann/acoustics_1D.cpython-39-darwin.so: mach-o, but wrong architecture\n"
     ]
    },
    {
     "ename": "IndexError",
     "evalue": "index 100 is out of bounds for axis 0 with size 100",
     "output_type": "error",
     "traceback": [
      "\u001b[0;31m---------------------------------------------------------------------------\u001b[0m",
      "\u001b[0;31mIndexError\u001b[0m                                Traceback (most recent call last)",
      "\u001b[0;32m/var/folders/91/m2y77ccx55jd2_95j1qjqtxm0000gn/T/ipykernel_3734/1692944305.py\u001b[0m in \u001b[0;36m<module>\u001b[0;34m\u001b[0m\n\u001b[1;32m     69\u001b[0m \u001b[0;32mif\u001b[0m \u001b[0m__name__\u001b[0m \u001b[0;34m==\u001b[0m \u001b[0;34m'__main__'\u001b[0m\u001b[0;34m:\u001b[0m\u001b[0;34m\u001b[0m\u001b[0;34m\u001b[0m\u001b[0m\n\u001b[1;32m     70\u001b[0m     \u001b[0mclaw\u001b[0m \u001b[0;34m=\u001b[0m \u001b[0msetup\u001b[0m\u001b[0;34m(\u001b[0m\u001b[0;34m)\u001b[0m\u001b[0;34m\u001b[0m\u001b[0;34m\u001b[0m\u001b[0m\n\u001b[0;32m---> 71\u001b[0;31m     \u001b[0mclaw\u001b[0m\u001b[0;34m.\u001b[0m\u001b[0mrun\u001b[0m\u001b[0;34m(\u001b[0m\u001b[0;34m)\u001b[0m\u001b[0;34m\u001b[0m\u001b[0;34m\u001b[0m\u001b[0m\n\u001b[0m\u001b[1;32m     72\u001b[0m \u001b[0;34m\u001b[0m\u001b[0m\n\u001b[1;32m     73\u001b[0m     \u001b[0;32mimport\u001b[0m \u001b[0mmatplotlib\u001b[0m\u001b[0;34m.\u001b[0m\u001b[0mpyplot\u001b[0m \u001b[0;32mas\u001b[0m \u001b[0mplt\u001b[0m\u001b[0;34m\u001b[0m\u001b[0;34m\u001b[0m\u001b[0m\n",
      "\u001b[0;32m~/opt/anaconda3/lib/python3.9/site-packages/clawpack/pyclaw/controller.py\u001b[0m in \u001b[0;36mrun\u001b[0;34m(self)\u001b[0m\n\u001b[1;32m    357\u001b[0m         \u001b[0;32mfor\u001b[0m \u001b[0mt\u001b[0m \u001b[0;32min\u001b[0m \u001b[0moutput_times\u001b[0m\u001b[0;34m[\u001b[0m\u001b[0;36m1\u001b[0m\u001b[0;34m:\u001b[0m\u001b[0;34m]\u001b[0m\u001b[0;34m:\u001b[0m\u001b[0;34m\u001b[0m\u001b[0;34m\u001b[0m\u001b[0m\n\u001b[1;32m    358\u001b[0m             \u001b[0;32mif\u001b[0m \u001b[0mself\u001b[0m\u001b[0;34m.\u001b[0m\u001b[0moutput_style\u001b[0m \u001b[0;34m<\u001b[0m \u001b[0;36m3\u001b[0m\u001b[0;34m:\u001b[0m\u001b[0;34m\u001b[0m\u001b[0;34m\u001b[0m\u001b[0m\n\u001b[0;32m--> 359\u001b[0;31m                 \u001b[0mstatus\u001b[0m \u001b[0;34m=\u001b[0m \u001b[0mself\u001b[0m\u001b[0;34m.\u001b[0m\u001b[0msolver\u001b[0m\u001b[0;34m.\u001b[0m\u001b[0mevolve_to_time\u001b[0m\u001b[0;34m(\u001b[0m\u001b[0mself\u001b[0m\u001b[0;34m.\u001b[0m\u001b[0msolution\u001b[0m\u001b[0;34m,\u001b[0m\u001b[0mt\u001b[0m\u001b[0;34m)\u001b[0m\u001b[0;34m\u001b[0m\u001b[0;34m\u001b[0m\u001b[0m\n\u001b[0m\u001b[1;32m    360\u001b[0m             \u001b[0;32melse\u001b[0m\u001b[0;34m:\u001b[0m\u001b[0;34m\u001b[0m\u001b[0;34m\u001b[0m\u001b[0m\n\u001b[1;32m    361\u001b[0m                 \u001b[0;31m# Take nstepout steps and output\u001b[0m\u001b[0;34m\u001b[0m\u001b[0;34m\u001b[0m\u001b[0m\n",
      "\u001b[0;32m~/opt/anaconda3/lib/python3.9/site-packages/clawpack/pyclaw/solver.py\u001b[0m in \u001b[0;36mevolve_to_time\u001b[0;34m(self, solution, tend)\u001b[0m\n\u001b[1;32m    611\u001b[0m \u001b[0;34m\u001b[0m\u001b[0m\n\u001b[1;32m    612\u001b[0m             \u001b[0;31m# Note that the solver may alter dt during the step() routine\u001b[0m\u001b[0;34m\u001b[0m\u001b[0;34m\u001b[0m\u001b[0m\n\u001b[0;32m--> 613\u001b[0;31m             \u001b[0mself\u001b[0m\u001b[0;34m.\u001b[0m\u001b[0mstep\u001b[0m\u001b[0;34m(\u001b[0m\u001b[0msolution\u001b[0m\u001b[0;34m,\u001b[0m \u001b[0mtake_one_step\u001b[0m\u001b[0;34m,\u001b[0m \u001b[0mtstart\u001b[0m\u001b[0;34m,\u001b[0m \u001b[0mtend\u001b[0m\u001b[0;34m)\u001b[0m\u001b[0;34m\u001b[0m\u001b[0;34m\u001b[0m\u001b[0m\n\u001b[0m\u001b[1;32m    614\u001b[0m \u001b[0;34m\u001b[0m\u001b[0m\n\u001b[1;32m    615\u001b[0m             \u001b[0;31m# Check to make sure that the Courant number was not too large\u001b[0m\u001b[0;34m\u001b[0m\u001b[0;34m\u001b[0m\u001b[0m\n",
      "\u001b[0;32m~/opt/anaconda3/lib/python3.9/site-packages/clawpack/pyclaw/classic/solver.py\u001b[0m in \u001b[0;36mstep\u001b[0;34m(self, solution, take_one_step, tstart, tend)\u001b[0m\n\u001b[1;32m    127\u001b[0m             \u001b[0mself\u001b[0m\u001b[0;34m.\u001b[0m\u001b[0mstep_source\u001b[0m\u001b[0;34m(\u001b[0m\u001b[0mself\u001b[0m\u001b[0;34m,\u001b[0m\u001b[0msolution\u001b[0m\u001b[0;34m.\u001b[0m\u001b[0mstates\u001b[0m\u001b[0;34m[\u001b[0m\u001b[0;36m0\u001b[0m\u001b[0;34m]\u001b[0m\u001b[0;34m,\u001b[0m\u001b[0mself\u001b[0m\u001b[0;34m.\u001b[0m\u001b[0mdt\u001b[0m\u001b[0;34m/\u001b[0m\u001b[0;36m2.0\u001b[0m\u001b[0;34m)\u001b[0m\u001b[0;34m\u001b[0m\u001b[0;34m\u001b[0m\u001b[0m\n\u001b[1;32m    128\u001b[0m \u001b[0;34m\u001b[0m\u001b[0m\n\u001b[0;32m--> 129\u001b[0;31m         \u001b[0mself\u001b[0m\u001b[0;34m.\u001b[0m\u001b[0mstep_hyperbolic\u001b[0m\u001b[0;34m(\u001b[0m\u001b[0msolution\u001b[0m\u001b[0;34m)\u001b[0m\u001b[0;34m\u001b[0m\u001b[0;34m\u001b[0m\u001b[0m\n\u001b[0m\u001b[1;32m    130\u001b[0m \u001b[0;34m\u001b[0m\u001b[0m\n\u001b[1;32m    131\u001b[0m         \u001b[0;31m# Check here if the CFL condition is satisfied.\u001b[0m\u001b[0;34m\u001b[0m\u001b[0;34m\u001b[0m\u001b[0m\n",
      "\u001b[0;32m~/opt/anaconda3/lib/python3.9/site-packages/clawpack/pyclaw/classic/solver.py\u001b[0m in \u001b[0;36mstep_hyperbolic\u001b[0;34m(self, solution)\u001b[0m\n\u001b[1;32m    326\u001b[0m                 \u001b[0maux_l\u001b[0m \u001b[0;34m=\u001b[0m \u001b[0;32mNone\u001b[0m\u001b[0;34m\u001b[0m\u001b[0;34m\u001b[0m\u001b[0m\n\u001b[1;32m    327\u001b[0m                 \u001b[0maux_r\u001b[0m \u001b[0;34m=\u001b[0m \u001b[0;32mNone\u001b[0m\u001b[0;34m\u001b[0m\u001b[0;34m\u001b[0m\u001b[0m\n\u001b[0;32m--> 328\u001b[0;31m             \u001b[0mwave\u001b[0m\u001b[0;34m,\u001b[0m\u001b[0ms\u001b[0m\u001b[0;34m,\u001b[0m\u001b[0mamdq\u001b[0m\u001b[0;34m,\u001b[0m\u001b[0mapdq\u001b[0m \u001b[0;34m=\u001b[0m \u001b[0mself\u001b[0m\u001b[0;34m.\u001b[0m\u001b[0mrp\u001b[0m\u001b[0;34m(\u001b[0m\u001b[0mq_l\u001b[0m\u001b[0;34m,\u001b[0m\u001b[0mq_r\u001b[0m\u001b[0;34m,\u001b[0m\u001b[0maux_l\u001b[0m\u001b[0;34m,\u001b[0m\u001b[0maux_r\u001b[0m\u001b[0;34m,\u001b[0m\u001b[0mstate\u001b[0m\u001b[0;34m.\u001b[0m\u001b[0mproblem_data\u001b[0m\u001b[0;34m)\u001b[0m\u001b[0;34m\u001b[0m\u001b[0;34m\u001b[0m\u001b[0m\n\u001b[0m\u001b[1;32m    329\u001b[0m \u001b[0;34m\u001b[0m\u001b[0m\n\u001b[1;32m    330\u001b[0m             \u001b[0;31m# Update loop limits, these are the limits for the Riemann solver\u001b[0m\u001b[0;34m\u001b[0m\u001b[0;34m\u001b[0m\u001b[0m\n",
      "\u001b[0;32m/var/folders/91/m2y77ccx55jd2_95j1qjqtxm0000gn/T/ipykernel_3734/1692944305.py\u001b[0m in \u001b[0;36madvection_1D\u001b[0;34m(ql, qr, auxl, auxr, problem_data)\u001b[0m\n\u001b[1;32m     24\u001b[0m     \u001b[0;31m# Compute the fluctuations based on the upwind scheme\u001b[0m\u001b[0;34m\u001b[0m\u001b[0;34m\u001b[0m\u001b[0m\n\u001b[1;32m     25\u001b[0m     \u001b[0;32mfor\u001b[0m \u001b[0mi\u001b[0m \u001b[0;32min\u001b[0m \u001b[0mrange\u001b[0m\u001b[0;34m(\u001b[0m\u001b[0mnum_interfaces\u001b[0m\u001b[0;34m)\u001b[0m\u001b[0;34m:\u001b[0m\u001b[0;34m\u001b[0m\u001b[0;34m\u001b[0m\u001b[0m\n\u001b[0;32m---> 26\u001b[0;31m         \u001b[0;32mif\u001b[0m \u001b[0mspeed_interface\u001b[0m\u001b[0;34m[\u001b[0m\u001b[0mi\u001b[0m\u001b[0;34m]\u001b[0m \u001b[0;34m>\u001b[0m \u001b[0;36m0\u001b[0m\u001b[0;34m:\u001b[0m\u001b[0;34m\u001b[0m\u001b[0;34m\u001b[0m\u001b[0m\n\u001b[0m\u001b[1;32m     27\u001b[0m             \u001b[0mamdq\u001b[0m\u001b[0;34m[\u001b[0m\u001b[0;34m:\u001b[0m\u001b[0;34m,\u001b[0m \u001b[0mi\u001b[0m\u001b[0;34m]\u001b[0m \u001b[0;34m=\u001b[0m \u001b[0;34m-\u001b[0m\u001b[0mspeed_interface\u001b[0m\u001b[0;34m[\u001b[0m\u001b[0mi\u001b[0m\u001b[0;34m]\u001b[0m \u001b[0;34m*\u001b[0m \u001b[0mql\u001b[0m\u001b[0;34m[\u001b[0m\u001b[0;34m:\u001b[0m\u001b[0;34m,\u001b[0m \u001b[0mi\u001b[0m\u001b[0;34m]\u001b[0m\u001b[0;34m\u001b[0m\u001b[0;34m\u001b[0m\u001b[0m\n\u001b[1;32m     28\u001b[0m             \u001b[0mapdq\u001b[0m\u001b[0;34m[\u001b[0m\u001b[0;34m:\u001b[0m\u001b[0;34m,\u001b[0m \u001b[0mi\u001b[0m\u001b[0;34m]\u001b[0m \u001b[0;34m=\u001b[0m \u001b[0mspeed_interface\u001b[0m\u001b[0;34m[\u001b[0m\u001b[0mi\u001b[0m\u001b[0;34m]\u001b[0m \u001b[0;34m*\u001b[0m \u001b[0mqr\u001b[0m\u001b[0;34m[\u001b[0m\u001b[0;34m:\u001b[0m\u001b[0;34m,\u001b[0m \u001b[0mi\u001b[0m\u001b[0;34m]\u001b[0m\u001b[0;34m\u001b[0m\u001b[0;34m\u001b[0m\u001b[0m\n",
      "\u001b[0;31mIndexError\u001b[0m: index 100 is out of bounds for axis 0 with size 100"
     ]
    }
   ],
   "source": [
    "import numpy as np\n",
    "from clawpack import pyclaw\n",
    "from clawpack import riemann\n",
    "\n",
    "def advection_1D(ql, qr, auxl, auxr, problem_data):\n",
    "    num_eqn = 1  # Number of equations\n",
    "    num_waves = 1  # Number of waves in the Riemann solution\n",
    "\n",
    "    # Calculate number of interfaces, which should be the same as the number of cells (periodic boundary)\n",
    "    num_interfaces = ql.shape[-1]\n",
    "\n",
    "    # Initialize arrays for waves, speeds, and fluctuations\n",
    "    wave = np.zeros((num_eqn, num_waves, num_interfaces))\n",
    "    s = np.zeros((num_waves, num_interfaces))\n",
    "    amdq = np.zeros((num_eqn, num_interfaces))\n",
    "    apdq = np.zeros((num_eqn, num_interfaces))\n",
    "\n",
    "    # Calculate speeds at cell interfaces, correctly handling periodic boundaries\n",
    "    speed = 1.5 + np.sin(2 * np.pi * problem_data['grid'].x.centers)\n",
    "    # Append the speed at the first cell to the end to handle periodic boundary\n",
    "    speed = np.append(speed, speed[0])\n",
    "    speed_interface = 0.5 * (speed[:-1] + speed[1:])\n",
    "\n",
    "    # Compute the fluctuations based on the upwind scheme\n",
    "    for i in range(num_interfaces):\n",
    "        if speed_interface[i] > 0:\n",
    "            amdq[:, i] = -speed_interface[i] * ql[:, i]\n",
    "            apdq[:, i] = speed_interface[i] * qr[:, i]\n",
    "        else:\n",
    "            amdq[:, i] = -speed_interface[i] * qr[:, i]\n",
    "            apdq[:, i] = speed_interface[i] * ql[:, i]\n",
    "\n",
    "    return wave, s, amdq, apdq\n",
    "\n",
    "def setup():\n",
    "    # Define the computational domain\n",
    "    x_lower = 0.0\n",
    "    x_upper = 1.0\n",
    "    num_cells = 100\n",
    "    x = pyclaw.Dimension(x_lower, x_upper, num_cells, name='x')\n",
    "    domain = pyclaw.Domain([x])\n",
    "\n",
    "    # Create a solver object\n",
    "    solver = pyclaw.ClawSolver1D(riemann_solver=advection_1D)\n",
    "    solver.kernel_language = 'Python'\n",
    "    solver.num_eqn = 1\n",
    "    solver.num_waves = 1\n",
    "\n",
    "    # Initialize the state\n",
    "    state = pyclaw.State(domain, solver.num_eqn)\n",
    "    state.problem_data['grid'] = domain.grid  # Pass grid info to problem data for access in Riemann solver\n",
    "    xc = domain.grid.x.centers\n",
    "    state.q[0, :] = np.exp(-100 * (xc - 0.5)**2)  # Initial condition\n",
    "\n",
    "    # Boundary conditions\n",
    "    solver.bc_lower[0] = pyclaw.BC.periodic\n",
    "    solver.bc_upper[0] = pyclaw.BC.periodic\n",
    "\n",
    "    # Controller setup\n",
    "    claw = pyclaw.Controller()\n",
    "    claw.tfinal = 1.0\n",
    "    claw.solution = pyclaw.Solution(state, domain)\n",
    "    claw.solver = solver\n",
    "    claw.keep_copy = True  # Keep a copy of the solution\n",
    "    claw.output_style = 1  # Output at every timestep\n",
    "\n",
    "    return claw\n",
    "\n",
    "if __name__ == '__main__':\n",
    "    claw = setup()\n",
    "    claw.run()\n",
    "\n",
    "    import matplotlib.pyplot as plt\n",
    "\n",
    "    for frame in claw.frames:\n",
    "        plt.plot(frame.state.grid.x.centers, frame.state.q[0, :])\n",
    "    plt.title(\"Solution of the Advection Equation\")\n",
    "    plt.xlabel(\"x\")\n",
    "    plt.ylabel(\"u\")\n",
    "    plt.show()\n"
   ]
  },
  {
   "cell_type": "code",
   "execution_count": null,
   "id": "dca1656d",
   "metadata": {},
   "outputs": [],
   "source": []
  }
 ],
 "metadata": {
  "kernelspec": {
   "display_name": "Python 3 (ipykernel)",
   "language": "python",
   "name": "python3"
  },
  "language_info": {
   "codemirror_mode": {
    "name": "ipython",
    "version": 3
   },
   "file_extension": ".py",
   "mimetype": "text/x-python",
   "name": "python",
   "nbconvert_exporter": "python",
   "pygments_lexer": "ipython3",
   "version": "3.9.7"
  }
 },
 "nbformat": 4,
 "nbformat_minor": 5
}
