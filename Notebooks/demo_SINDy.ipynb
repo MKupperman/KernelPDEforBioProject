{
 "cells": [
  {
   "cell_type": "markdown",
   "metadata": {},
   "source": [
    "# SINDy attempts"
   ]
  },
  {
   "cell_type": "markdown",
   "metadata": {},
   "source": [
    "## How it works\n",
    "Suppose we have a set of measurements $x(t)\\in \\mathbb{R}^n$ from some physical system at different points in time $t$. SINDy seeks to represent the time evolution of $x(t)$ in terms of a nonlinear function $f$:\n",
    "\n",
    "$$ \\frac{d}{dt}x(t) = f(x(t)). $$\n",
    "\n",
    "This equation constitutes a *dynamical system* for the measurements $x(t)$. The vector $x(t)=[x_1(t), x_2(t), \\dots x_n(t)]^\\top$ gives the state of the physical system at time $t$. The function $f(x(t))$ constrains how the system evolves in time.\n",
    "\n",
    "The key idea behind SINDy is that the function $f$ is often **sparse** in the space of an appropriate set of basis functions. For example, the function\n",
    "\n",
    "$$\n",
    "\t\\frac{d}{dt}x = f(x)\n",
    "\t= \\begin{bmatrix} f_1(x)\\\\f_2(x) \\end{bmatrix}\n",
    "\t= \\begin{bmatrix}1 - x_1 + 3x_1x_2 \\\\ x_2^2 - 5x_1^3 \\end{bmatrix}\n",
    "$$\n",
    "\n",
    "is sparse with respect to the set of polynomials of two variables in the sense that if we were to write an expansion of the component functions of $f$ in this basis (e.g. $f_{1}(x) = \\sum_{i=0}^\\infty\\sum_{j=0}^\\infty a_{i,j}x_1^ix_2^j$), only a small number of coefficients ($a_{i,j}$) would be nonzero.\n",
    "\n",
    "SINDy employs **sparse regression** to find a linear combination of basis functions that best capture the dynamic behavior of the physical system."
   ]
  },
  {
   "cell_type": "markdown",
   "metadata": {},
   "source": [
    "## Structure of PySINDy\n",
    "Consider a set of measurement data collected at times $t_1, t_2, \\dots, t_n$, and the time derivatives of these measurements (either measured directly or numerically approximated). These data are aggregated into the matrices $X$ and $\\dot X$, respectively\n",
    "\n",
    "$$\n",
    "\tX = \\begin{bmatrix}\n",
    "\t\tx_1(t_1) & x_2(t_1) & \\dots & x_n(t_1) \\\\\n",
    "\t\tx_1(t_2) & x_2(t_2) & \\dots & x_n(t_2) \\\\\n",
    "\t\t\\vdots & \\vdots & & \\vdots \\\\ x_1(t_m) & x_2(t_m) & \\dots & x_n(t_m)\n",
    "\t\\end{bmatrix},\n",
    "\t\\qquad\n",
    "\t\\dot{X} = \\begin{bmatrix} \\dot{x_1}(t_1) & \\dot{x_2}(t_1) & \\dots & \\dot{x_n}(t_1) \\\\\n",
    "\t\t\\dot{x_1}(t_2) & \\dot{x_2}(t_2) & \\dots & \\dot{x_n}(t_2) \\\\\n",
    "\t\t\\vdots & \\vdots & & \\vdots \\\\\n",
    "\t\t\\dot{x_1}(t_m) & \\dot{x_2}(t_m) & \\dots & \\dot{x_n}(t_m)\n",
    "\t\\end{bmatrix}.\n",
    "$$\n",
    "\n",
    "Next, one forms a library matrix $\\Theta(X)$ whose columns consist of a chosen set of basis functions applied to the data\n",
    "\n",
    "$$\n",
    "\t\\Theta(X) = \\begin{bmatrix}\n",
    "\t\t\\mid & \\mid & & \\mid \\\\\n",
    "\t\t\\theta_1(X) & \\theta_2(X) & \\dots & \\theta_\\ell(X) \\\\\n",
    "\t\t\\mid & \\mid & & \\mid\n",
    "\t\\end{bmatrix}.\n",
    "$$\n",
    "\n",
    "For example, if $\\theta_1(x), \\theta_2(x), \\dots, \\theta_\\ell(x)$ are monomials ($\\theta_i(x) = x^{i-1}$), then\n",
    "\n",
    "$$\n",
    "\t\\theta_3(X) = \\begin{bmatrix}\n",
    "\t\t\\mid & \\mid & & \\mid & \\mid & & \\mid \\\\\n",
    "\t\tx_1(t)^2 & x_1(t)x_2(t) & \\dots & x_2(t)^2 & x_2(t)x_3(t) & \\dots & x_n^2(t) \\\\\n",
    "\t\t\\mid & \\mid & & \\mid & \\mid & & \\mid\n",
    "\t\\end{bmatrix},\n",
    "$$\n",
    "\n",
    "where vector products and powers are understood to be element-wise.\n",
    "\n",
    "We seek a set of sparse coefficient vectors (collected into a matrix)\n",
    "\n",
    "$$\n",
    "\t\\Xi = \\begin{bmatrix}\n",
    "\t\t\\mid & \\mid & & \\mid \\\\\n",
    "\t\t\\xi_1 & \\xi_2 & \\dots & \\xi_n \\\\\n",
    "\t\t\\mid & \\mid & & \\mid\n",
    "\t\\end{bmatrix}.\n",
    "$$\n",
    "\n",
    "The vector $\\xi_i$ provides the coefficients for a linear combination of basis functions $\\theta_1(x), \\theta_2(x), \\dots, \\theta_\\ell(x)$ representing the $i$th component function of $f$: $f_i(x)$. That is to say, $f_i(x) = \\Theta\\left(x^\\top\\right) \\xi_i$, where $\\Theta\\left(x^\\top\\right)$ is understood to be a row vector consisting of symbolic functions (whereas $\\Theta(X)$ is a matrix whose entries are numerical values).\n",
    "\n",
    "With each of the objects $X$, $\\dot X$, $\\Theta(X)$, and $\\Xi$ being defined, we are ready to write down the approximation problem underlying SINDy:\n",
    "\n",
    "$$ \\dot X \\approx \\Theta(X)\\Xi. $$\n",
    "\n",
    "\n",
    "The submodules of PySINDy are each aligned with one of the terms in the aforementioned approximation equation\n",
    "\n",
    " * `pysindy.differentiate` performs numerical differentiation to compute $\\dot X$ from $X$;\n",
    " * `pysindy.feature_library` allows the user to specify a set of library functions and handles the formation of $\\Theta(X)$;\n",
    " * `pysindy.optimizers` provides a set of sparse regression solvers for determining $\\Xi$.\n",
    "\n",
    "The `SINDy` object encapsulates one class object from each of these three submodules and uses them, along with a user-supplied data matrix, to find a governing dynamical system."
   ]
  },
  {
   "cell_type": "markdown",
   "metadata": {},
   "source": [
    "## SIS Model Discovery\n",
    "Here, we are trying to discover the governing equation for the SIS model and compare to the 2-step kernel method. Right now, the architecture is just for ODE, but there are SINDy methods for PDEs. We also want to discover the forcing function. Since this is only dependent on time, time will need to be included as a state variable (the derivative part will just be a column of ones along with the other states). For sinusoidal forcing, the coefficient will be able to discover the amplitude, but the frequency is embedded with the time argument. The only way around this (I think) is to include multiple sin / cos functions with different frequencies.\n",
    "\n",
    "This notebook can be converted to a function:\n",
    "\n",
    "* **Input = States $X$**: a matrix of the data, where columns are the states and rows are samples/observations in time. For SIS, this should look like the following:\n",
    "$$\n",
    "\tX = \\begin{bmatrix}\n",
    "\t\tI(t_1) & t_1\\\\\n",
    "\t\tI(t_2) & t_2\\\\\n",
    "\t\t\\vdots & \\vdots \\\\ I(t_m) & t_m\n",
    "\t\\end{bmatrix}\n",
    "$$\n",
    "\n",
    "* **Process**\n",
    "\n",
    "    * Compute derivatives of $X$ to form $\\dot{X}$\n",
    "\t$$\n",
    "\t\t\\dot{X} = \\begin{bmatrix} \\dot{I}(t_1) & 1 \\\\\n",
    "\t\t\t\\dot{I}(t_2) & 1 \\\\\n",
    "\t\t\t\\vdots & \\vdots \\\\\n",
    "\t\t\t\\dot{I}(t_m) & 1\n",
    "\t\t\\end{bmatrix}.\n",
    "\t$$\n",
    "\n",
    "\t* Select feature library from package. Can select multiple and concatenate. Can also create a custom one.\n",
    "\t* Select sparse regression optimizer\n",
    "    * Construct and fit model\n",
    "* **Output**: ?? matrix of approximated solution in time using learned coeffs and corresponding basis functions - depends on what we decide we want to do for error and visualization\n",
    "\n"
   ]
  },
  {
   "cell_type": "code",
   "execution_count": 3,
   "metadata": {},
   "outputs": [],
   "source": [
    "import numpy as np\n",
    "import pysindy as ps"
   ]
  },
  {
   "cell_type": "markdown",
   "metadata": {},
   "source": [
    "The function would pass states data as input, but here we generate it for local testing"
   ]
  },
  {
   "cell_type": "code",
   "execution_count": null,
   "metadata": {},
   "outputs": [],
   "source": [
    "import KBio"
   ]
  },
  {
   "cell_type": "code",
   "execution_count": null,
   "metadata": {},
   "outputs": [],
   "source": [
    "beta = 4e-3\n",
    "gamma = 1e-3\n",
    "T_final = 3e1\n",
    "dt = 1e-2  # for Euler step\n",
    "data = KBio.rectangular_grid([0], [3e1], [30 + 1])\n",
    "sim = KBio.SIS_sim(dt=dt, T_final=T_final, beta=beta, gamma=gamma, I0 = 5, S0 = 95)\n",
    "sim(data, forcing = lambda x: 1.8e-4*np.sin(0.01 + 0.4*x))"
   ]
  },
  {
   "cell_type": "code",
   "execution_count": null,
   "metadata": {},
   "outputs": [],
   "source": [
    "t = data.grid_tensors[0]\n",
    "I = data.grid_tensors_values\n",
    "X = [I,t] # not sure if this is the right code, but need to assemble a matrix with columns for state(s) and t"
   ]
  },
  {
   "cell_type": "markdown",
   "metadata": {},
   "source": [
    "Define SINDy submodules"
   ]
  },
  {
   "cell_type": "code",
   "execution_count": null,
   "metadata": {},
   "outputs": [],
   "source": [
    "differentiation_method = ps.FiniteDifference(order=2)\n",
    "\n",
    "feature_library_poly = ps.PolynomialLibrary(degree=3)\n",
    "feature_library_sine = ps.FourierLibrary()\n",
    "feature_library = ps.ConcatLibrary([feature_library_poly, feature_library_sine])\n",
    "\n",
    "optimizer = ps.STLSQ(threshold=0.2)"
   ]
  },
  {
   "cell_type": "markdown",
   "metadata": {},
   "source": [
    "Construct and fit model"
   ]
  },
  {
   "cell_type": "code",
   "execution_count": null,
   "metadata": {},
   "outputs": [],
   "source": [
    "model = ps.SINDy(\n",
    "    differentiation_method=differentiation_method,\n",
    "    feature_library=feature_library,\n",
    "    optimizer=optimizer,\n",
    "    feature_names=[\"I\", \"t\"], # I for infectious population, t for time\n",
    ")\n",
    "\n",
    "model.fit(X, t=t) # t should also be given in the def function input, but it's also a column in X for our purposes, so it could be extracted from there\n",
    "model.print()"
   ]
  },
  {
   "cell_type": "markdown",
   "metadata": {},
   "source": [
    "Simulate new data with model and visualize"
   ]
  },
  {
   "cell_type": "code",
   "execution_count": null,
   "metadata": {},
   "outputs": [],
   "source": [
    "# I0 = initial value for I\n",
    "# t0 = initial value for t\n",
    "# I0 = vector of time values over which to simulate dynamics\n",
    "sim = model.simulate([I0, t0], t=t_test)"
   ]
  },
  {
   "cell_type": "code",
   "execution_count": null,
   "metadata": {},
   "outputs": [],
   "source": [
    "import matplotlib.pyplot as plt\n",
    "\n",
    "plt.ion()\n",
    "\n",
    "plt.figure()\n",
    "plt.plot(t0, I0, \"ro\", label=\"Initial condition\", alpha=0.6, markersize=8)\n",
    "plt.plot(t_test, I_test, \"b\", label=\"Exact solution\", alpha=0.4, linewidth=4)\n",
    "plt.plot(sim[:, 1], sim[:, 0], \"k--\", label=\"SINDy model\", linewidth=3)\n",
    "plt.xlabel(\"t\")\n",
    "plt.ylabel(\"I\")\n",
    "plt.legend()\n",
    "plt.show()"
   ]
  },
  {
   "cell_type": "markdown",
   "metadata": {},
   "source": [
    "COOL! Now set up to work in a loop: cycle through all "
   ]
  },
  {
   "cell_type": "code",
   "execution_count": null,
   "metadata": {},
   "outputs": [],
   "source": [
    "def oscillatory_forcing(A, omega, phi, t):\n",
    "    return A*np.sin(omega + phi*t) * np.minimum(1, t/10)\n",
    "\n",
    "def constant_forcing(A, t):\n",
    "    return A * np.minimum(1, t/10)"
   ]
  },
  {
   "cell_type": "code",
   "execution_count": null,
   "metadata": {},
   "outputs": [],
   "source": [
    "n_samples_oscillatory = 10\n",
    "# use log-uniform distribution to generate amplitudes\n",
    "amplitudes = 10 ** (np.random.uniform(-3, -2.5, n_samples_oscillatory))\n",
    "\n",
    "# use uniform distribution to generate frequencies\n",
    "shifts = np.random.uniform(0, np.pi, n_samples_oscillatory)\n",
    "print(shifts)\n",
    "frequencies = np.random.uniform(1, 6, n_samples_oscillatory)\n",
    "forcing_functions = [partial(oscillatory_forcing, amplitude, shift, frequency) for amplitude, shift, frequency in zip(amplitudes, shifts, frequencies)]\n",
    "grids_oscillatory = [KBio.rectangular_grid([0], [30], [301]) for _ in range(n_samples_oscillatory)]\n",
    "for grid, amplitude, shift, frequency, fn in zip(grids_oscillatory, amplitudes, shifts, frequencies, forcing_functions):\n",
    "    sim(grid, forcing = fn)"
   ]
  }
 ],
 "metadata": {
  "kernelspec": {
   "display_name": "Python 3",
   "language": "python",
   "name": "python3"
  },
  "language_info": {
   "codemirror_mode": {
    "name": "ipython",
    "version": 3
   },
   "file_extension": ".py",
   "mimetype": "text/x-python",
   "name": "python",
   "nbconvert_exporter": "python",
   "pygments_lexer": "ipython3",
   "version": "3.11.7"
  }
 },
 "nbformat": 4,
 "nbformat_minor": 2
}
