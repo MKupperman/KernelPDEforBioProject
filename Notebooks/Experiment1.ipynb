{
 "cells": [
  {
   "cell_type": "code",
   "execution_count": null,
   "metadata": {},
   "outputs": [],
   "source": [
    "# GLOBAL PARAMETERS FOR THE SIMULATION\n",
    "beta = 4e-3\n",
    "gamma = 1e-3\n",
    "T_final = 3e1\n",
    "dt = 1e-2  # for Euler step\n",
    "sim = KBio.SIS_sim(dt=dt, T_final=T_final, beta=beta, gamma=gamma, I0 = 10, S0 = 90)\n",
    "\n",
    "# Now for the ML parameters\n",
    "n_samples_oscillatory = 3  # 20\n",
    "n_samples_oscillatory_test = 3  # 50\n",
    "\n",
    "\n",
    "# Forcing function parameters\n",
    "amplitudes_list = np.logspace(-4, -2.5, 5)\n",
    "amplitudes_list = np.sort(amplitudes_list)\n",
    "\n",
    "shifts = np.random.uniform(0, np.pi, n_samples_oscillatory)\n",
    "frequencies = np.random.uniform(1, 6, n_samples_oscillatory)\n"
   ]
  },
  {
   "cell_type": "code",
   "execution_count": null,
   "metadata": {},
   "outputs": [],
   "source": [
    "# feature functions\n",
    "feature_functions = []\n",
    "\n",
    "def ident(index, x, u, u_deriv_list):\n",
    "    \"\"\" Identity feature function for the $index$-th derivative of the function\"\"\"\n",
    "    if np.abs(int(index) - index) > 1e-10:\n",
    "        raise ValueError('Only the first derivative is available')\n",
    "    if index == 0:\n",
    "        return u\n",
    "    else:\n",
    "        return u_deriv_list[index]\n",
    "# Get the first 2 derivatives and the function itself\n",
    "for i in range(1,3):\n",
    "    feature_functions.append(partial(ident, i))\n",
    "\n",
    "# quadratic feature function\n",
    "def quadratic(index, x, u, u_deriv_list):\n",
    "    \"\"\" Quadratic feature function for the $index$-th derivative of the function\n",
    "\n",
    "    The feature function is $u^2$ for the function itself and $2u u'$ for the first derivative.\n",
    "    \"\"\"\n",
    "\n",
    "    if index == 0:\n",
    "        return u**2\n",
    "    elif index == 1:\n",
    "        return 2*u*u_deriv_list[index]\n",
    "    else:\n",
    "        raise ValueError('Higher derivatives are not implemented')\n",
    "\n",
    "feature_functions.append(partial(quadratic, 0))"
   ]
  },
  {
   "cell_type": "code",
   "execution_count": null,
   "metadata": {},
   "outputs": [],
   "source": [
    "from functools import partial\n",
    "import sys\n",
    "sys.path.append('../src')\n",
    "import numpy as np\n",
    "import matplotlib.pyplot as plt\n",
    "import matplotlib\n",
    "import KBio\n",
    "\n",
    "from sklearn.metrics import mean_squared_error\n",
    "mse = mean_squared_error"
   ]
  },
  {
   "cell_type": "code",
   "execution_count": null,
   "metadata": {},
   "outputs": [],
   "source": [
    "Gauss1 = KBio.Gaussian(sigma=1e-2)\n",
    "Gauss2 = KBio.Gaussian(sigma=2e-1)\n",
    "lin = KBio.Polynomial(degree=1, c=0)\n",
    "poly_quad = KBio.Polynomial(degree=2, c=0)\n",
    "poly_cubic = KBio.Polynomial(degree=3, c=0)\n",
    "poly_quartic = KBio.Polynomial(degree=4, c=0)\n",
    "poly_quintic = KBio.Polynomial(degree=5, c=0)"
   ]
  },
  {
   "cell_type": "code",
   "execution_count": null,
   "metadata": {},
   "outputs": [],
   "source": [
    "operator_learning_kernels = [Gauss2, lin, poly_quad, poly_cubic, poly_quartic, poly_quintic]"
   ]
  },
  {
   "cell_type": "code",
   "execution_count": null,
   "metadata": {},
   "outputs": [],
   "source": []
  }
 ],
 "metadata": {
  "kernelspec": {
   "display_name": "Python 3",
   "language": "python",
   "name": "python3"
  },
  "language_info": {
   "codemirror_mode": {
    "name": "ipython",
    "version": 3
   },
   "file_extension": ".py",
   "mimetype": "text/x-python",
   "name": "python",
   "nbconvert_exporter": "python",
   "pygments_lexer": "ipython3",
   "version": "3.11.2"
  }
 },
 "nbformat": 4,
 "nbformat_minor": 2
}
