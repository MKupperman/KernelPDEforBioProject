{
 "cells": [
  {
   "cell_type": "code",
   "execution_count": 8,
   "metadata": {},
   "outputs": [],
   "source": [
    "from functools import partial\n",
    "import sys\n",
    "sys.path.append('../src')\n",
    "import numpy as np\n",
    "import matplotlib.pyplot as plt\n",
    "import matplotlib\n",
    "import KBio\n",
    "\n",
    "from sklearn.metrics import mean_squared_error\n",
    "from sklearn.model_selection import KFold\n",
    "mse = mean_squared_error\n",
    "\n",
    "from matplotlib.gridspec import GridSpec"
   ]
  },
  {
   "cell_type": "code",
   "execution_count": 9,
   "metadata": {},
   "outputs": [],
   "source": [
    "Gauss1 = KBio.Gaussian(sigma=1e-2)\n",
    "Gauss2 = KBio.Gaussian(sigma=2e-1)\n",
    "#Gauss2 = KBio.Gaussian(sigma=5e-2)\n",
    "lin = KBio.Polynomial(degree=1, c=0)\n",
    "poly_quad = KBio.Polynomial(degree=2, c=0.01)\n",
    "poly_cubic = KBio.Polynomial(degree=3, c=0.01)\n",
    "poly_quartic = KBio.Polynomial(degree=4, c=0.01)\n",
    "poly_quintic = KBio.Polynomial(degree=5, c=0.01)"
   ]
  },
  {
   "cell_type": "code",
   "execution_count": 16,
   "metadata": {},
   "outputs": [],
   "source": [
    "#operator_kernels = [Gauss2, lin, poly_quad, poly_cubic, poly_quartic, poly_quintic]\n",
    "operator_kernels = [Gauss2]"
   ]
  },
  {
   "cell_type": "code",
   "execution_count": 17,
   "metadata": {},
   "outputs": [],
   "source": [
    "# Simulation parameters\n",
    "beta = 4e-1\n",
    "gamma = 1e-1\n",
    "T_final = 3e1\n",
    "dt = 1e-2\n",
    "\n",
    "# declare the simulator\n",
    "sim = KBio.SIS_sim(dt=dt, T_final=T_final, beta=beta, gamma=gamma, I0 = 10, S0 = 90)\n",
    "\n",
    "# number of samples for the training and test sets\n",
    "n_samples_oscillatory = 12 #20  \n",
    "\n",
    "# Use consistent forcings for standardization between trials\n",
    "#amplitudes_list = np.linspace(0.1, 0.5, 5)\n",
    "amplitudes_list = np.linspace(0.1, 0.2, 2)\n",
    "amplitudes_list = np.sort(amplitudes_list)\n",
    "\n",
    "np.random.seed(1947)\n",
    "shifts = np.random.uniform(0, np.pi, n_samples_oscillatory)\n",
    "# frequencies = np.random.uniform(1, 6, n_samples_oscillatory)\n",
    "frequencies = [np.random.normal(i+1, 0.1, n_samples_oscillatory // 5) for i in range(5)]\n",
    "frequencies = np.concatenate(frequencies)\n",
    "\n",
    "# Derivatives of the forcing function to consider\n",
    "alphas_list = [[0], [1], [2]]"
   ]
  },
  {
   "cell_type": "code",
   "execution_count": 18,
   "metadata": {},
   "outputs": [],
   "source": [
    "def oscillatory_forcing(A, omega, phi, t):\n",
    "    return A*np.sin(omega + phi*t) * np.minimum(1, t/10)\n",
    "\n",
    "def constant_forcing(A, t):\n",
    "    return A * np.minimum(1, t/10)"
   ]
  },
  {
   "cell_type": "code",
   "execution_count": 19,
   "metadata": {},
   "outputs": [],
   "source": [
    "# feature functions\n",
    "feature_functions = []\n",
    "\n",
    "def ident(index, x, u, u_deriv_list):\n",
    "    \"\"\" Identity feature function for the $index$-th derivative of the function\"\"\"\n",
    "    if np.abs(int(index) - index) > 1e-10:\n",
    "        raise ValueError('Only the first derivative is available')\n",
    "    if index == 0:\n",
    "        return u\n",
    "    else:\n",
    "        return u_deriv_list[index]\n",
    "# Get the first 2 derivatives and the function itself\n",
    "for i in range(1,3):\n",
    "    feature_functions.append(partial(ident, i))\n",
    "\n",
    "# quadratic feature function\n",
    "def quadratic(index, x, u, u_deriv_list):\n",
    "    \"\"\" Quadratic feature function for the $index$-th derivative of the function\n",
    "\n",
    "    The feature function is $u^2$ for the function itself and $2u u'$ for the first derivative.\n",
    "    \"\"\"\n",
    "\n",
    "    if index == 0:\n",
    "        return u**2\n",
    "    elif index == 1:\n",
    "        return 2*u*u_deriv_list[index]\n",
    "    else:\n",
    "        raise ValueError('Higher derivatives are not implemented')\n",
    "\n",
    "feature_functions.append(partial(quadratic, 0))"
   ]
  },
  {
   "cell_type": "code",
   "execution_count": 20,
   "metadata": {},
   "outputs": [],
   "source": [
    "training_data = {}\n",
    "for amplitude_ref in amplitudes_list:\n",
    "\n",
    "    amplitudes = np.full(n_samples_oscillatory,amplitude_ref)\n",
    "\n",
    "    ## Training data\n",
    "    forcing_functions = [partial(oscillatory_forcing, amplitude, shift, frequency) for amplitude, shift, \n",
    "                         frequency in zip(amplitudes, shifts, frequencies)]\n",
    "    grids_oscillatory = [KBio.rectangular_grid([0], [30], [301]) for _ in range(n_samples_oscillatory)]\n",
    "    for grid, amplitude, shift, frequency, fn in zip(grids_oscillatory, amplitudes, shifts, frequencies, forcing_functions):\n",
    "        sim(grid, forcing = fn)\n",
    "\n",
    "    training_data[amplitude_ref] = {'grids': grids_oscillatory, 'forcing_functions': forcing_functions}"
   ]
  },
  {
   "cell_type": "code",
   "execution_count": 21,
   "metadata": {},
   "outputs": [],
   "source": [
    "lambda_dict = {}\n",
    "lambda_errors = {}\n",
    "CV_mse = {}\n",
    "lambda_opts = np.logspace(-2, 0, 3)\n",
    "#lambda_opts = np.logspace(-9, 0, 21)"
   ]
  },
  {
   "cell_type": "code",
   "execution_count": 24,
   "metadata": {},
   "outputs": [
    {
     "ename": "ValueError",
     "evalue": "all input arrays must have the same shape",
     "output_type": "error",
     "traceback": [
      "\u001b[1;31m---------------------------------------------------------------------------\u001b[0m",
      "\u001b[1;31mValueError\u001b[0m                                Traceback (most recent call last)",
      "Cell \u001b[1;32mIn[24], line 12\u001b[0m\n\u001b[0;32m      9\u001b[0m x_std \u001b[38;5;241m=\u001b[39m np\u001b[38;5;241m.\u001b[39mstd(grids_train[\u001b[38;5;241m0\u001b[39m]\u001b[38;5;241m.\u001b[39mgrid_tensors[\u001b[38;5;241m0\u001b[39m])\n\u001b[0;32m     10\u001b[0m x_data_train \u001b[38;5;241m=\u001b[39m (x_data_train \u001b[38;5;241m-\u001b[39m x_mean) \u001b[38;5;241m/\u001b[39m x_std\n\u001b[1;32m---> 12\u001b[0m y_data_train \u001b[38;5;241m=\u001b[39m \u001b[43mnp\u001b[49m\u001b[38;5;241;43m.\u001b[39;49m\u001b[43mstack\u001b[49m\u001b[43m(\u001b[49m\u001b[43m[\u001b[49m\u001b[43mgrid\u001b[49m\u001b[38;5;241;43m.\u001b[39;49m\u001b[43mgrid_tensors_values\u001b[49m\u001b[43m \u001b[49m\u001b[38;5;28;43;01mfor\u001b[39;49;00m\u001b[43m \u001b[49m\u001b[43mgrid\u001b[49m\u001b[43m \u001b[49m\u001b[38;5;129;43;01min\u001b[39;49;00m\u001b[43m \u001b[49m\u001b[43mgrids_train\u001b[49m\u001b[43m]\u001b[49m\u001b[43m)\u001b[49m\n\u001b[0;32m     13\u001b[0m f_data_train \u001b[38;5;241m=\u001b[39m np\u001b[38;5;241m.\u001b[39mstack([grid\u001b[38;5;241m.\u001b[39mgrid_tensors_forcing \u001b[38;5;28;01mfor\u001b[39;00m grid \u001b[38;5;129;01min\u001b[39;00m grids_train])\n\u001b[0;32m     15\u001b[0m \u001b[38;5;28;01mfor\u001b[39;00m i, (train_index, test_index) \u001b[38;5;129;01min\u001b[39;00m \u001b[38;5;28menumerate\u001b[39m(kf\u001b[38;5;241m.\u001b[39msplit(x_data_train)):\n\u001b[0;32m     16\u001b[0m     \u001b[38;5;66;03m#mse_list = []\u001b[39;00m\n",
      "File \u001b[1;32mc:\\Users\\jyyoo\\AppData\\Local\\Programs\\Python\\Python311\\Lib\\site-packages\\numpy\\core\\shape_base.py:449\u001b[0m, in \u001b[0;36mstack\u001b[1;34m(arrays, axis, out, dtype, casting)\u001b[0m\n\u001b[0;32m    447\u001b[0m shapes \u001b[38;5;241m=\u001b[39m {arr\u001b[38;5;241m.\u001b[39mshape \u001b[38;5;28;01mfor\u001b[39;00m arr \u001b[38;5;129;01min\u001b[39;00m arrays}\n\u001b[0;32m    448\u001b[0m \u001b[38;5;28;01mif\u001b[39;00m \u001b[38;5;28mlen\u001b[39m(shapes) \u001b[38;5;241m!=\u001b[39m \u001b[38;5;241m1\u001b[39m:\n\u001b[1;32m--> 449\u001b[0m     \u001b[38;5;28;01mraise\u001b[39;00m \u001b[38;5;167;01mValueError\u001b[39;00m(\u001b[38;5;124m'\u001b[39m\u001b[38;5;124mall input arrays must have the same shape\u001b[39m\u001b[38;5;124m'\u001b[39m)\n\u001b[0;32m    451\u001b[0m result_ndim \u001b[38;5;241m=\u001b[39m arrays[\u001b[38;5;241m0\u001b[39m]\u001b[38;5;241m.\u001b[39mndim \u001b[38;5;241m+\u001b[39m \u001b[38;5;241m1\u001b[39m\n\u001b[0;32m    452\u001b[0m axis \u001b[38;5;241m=\u001b[39m normalize_axis_index(axis, result_ndim)\n",
      "\u001b[1;31mValueError\u001b[0m: all input arrays must have the same shape"
     ]
    }
   ],
   "source": [
    "\n",
    "kf = KFold(n_splits=4, shuffle=True, random_state=1947)\n",
    "for amplitude_ref in amplitudes_list:\n",
    "\n",
    "    grids_train = training_data[amplitude_ref][\"grids\"]\n",
    "\n",
    "    # standardize the data\n",
    "    x_data_train = np.stack([grid.grid_tensors[0] for grid in grids_train])\n",
    "    x_mean = np.mean(grids_train[0].grid_tensors[0])\n",
    "    x_std = np.std(grids_train[0].grid_tensors[0])\n",
    "    x_data_train = (x_data_train - x_mean) / x_std\n",
    "\n",
    "    y_data_train = np.stack([grid.grid_tensors_values for grid in grids_train])\n",
    "    f_data_train = np.stack([grid.grid_tensors_forcing for grid in grids_train])\n",
    "\n",
    "    for i, (train_index, test_index) in enumerate(kf.split(x_data_train)):\n",
    "        #mse_list = []\n",
    "        for kernel in operator_kernels:\n",
    "            mse_list = []\n",
    "            for lambda_opt in lambda_opts:\n",
    "                z, kdList, u_smoothed_train = KBio.kernel_smoothing(Gauss1, x_grid=x_data_train[train_index], \n",
    "                                                            u_data=y_data_train[train_index], f_data=f_data_train[train_index], \n",
    "                                                            alpha_list=alphas_list, nugget=1e-8)\n",
    "                x_grid_list = grid.grid_list\n",
    "\n",
    "                ## Assembling the features for the training data\n",
    "                F0_train = KBio.assemble_features(x_grid_list=x_grid_list, u_smoothed=u_smoothed_train[0], \n",
    "                                            multi_derivatives=u_smoothed_train, function_list=feature_functions,flatten=True)\n",
    "                F0_train_mean = np.mean(F0_train, axis=0)\n",
    "                F0_train_std = np.std(F0_train, axis=0)\n",
    "                F0_train = np.divide((F0_train - F0_train_mean), F0_train_std, where = (F0_train_std != 0))\n",
    "\n",
    "                f_train_flat = f_data_train[train_index].reshape(-1, 1)\n",
    "                ## Learning the predictor\n",
    "                predictor, weight_vector = KBio.learn_DE_form(kernel=Gauss2, s_features=F0_train, f_labels=f_train_flat, \n",
    "                                                            nugget=lambda_opt)\n",
    "\n",
    "                ## Smoothing the test data \n",
    "                z_test, kdList_test, u_smoothed_test = KBio.kernel_smoothing(Gauss1, x_grid=x_data_train[test_index], u_data=y_data_train[test_index], \n",
    "                                                                            f_data=f_data_train[test_index], alpha_list=alphas_list, nugget=1e-8)\n",
    "                F0_test = KBio.assemble_features(x_grid_list=x_grid_list, u_smoothed=u_smoothed_test[0], multi_derivatives=u_smoothed_test, \n",
    "                                                function_list=feature_functions, flatten=False)\n",
    "                F0_test = np.divide((F0_test - F0_train_mean), F0_train_std, where = (F0_train_std != 0))\n",
    "\n",
    "                #f_test_flat = f_data_train[test_index].reshape(-1, 1)\n",
    "                preds = []\n",
    "                for index in range(F0_test.shape[0]):\n",
    "                    _, p = predictor(F0_test[index,:])\n",
    "                    preds.append(p)\n",
    "                preds = np.hstack(preds)\n",
    "                mse_list.append(mse(f_data_train[test_index].T, preds))\n",
    "\n",
    "            CV_mse[(amplitude_ref, i, kernel)] = mse_list\n",
    "\n",
    "lambda_dict[(amplitude_ref, kernel)] = lambda_opts[np.argmin(np.mean([CV_mse[(amplitude_ref, i, kernel)] for i in range(4)], axis=0))]\n",
    "lambda_errors[(amplitude_ref, kernel)] = np.mean([CV_mse[(amplitude_ref, i, kernel)] for i in range(4)], axis=0)\n",
    "\n",
    "      "
   ]
  },
  {
   "cell_type": "code",
   "execution_count": null,
   "metadata": {},
   "outputs": [],
   "source": []
  }
 ],
 "metadata": {
  "kernelspec": {
   "display_name": "Python 3",
   "language": "python",
   "name": "python3"
  },
  "language_info": {
   "codemirror_mode": {
    "name": "ipython",
    "version": 3
   },
   "file_extension": ".py",
   "mimetype": "text/x-python",
   "name": "python",
   "nbconvert_exporter": "python",
   "pygments_lexer": "ipython3",
   "version": "3.11.2"
  }
 },
 "nbformat": 4,
 "nbformat_minor": 2
}
